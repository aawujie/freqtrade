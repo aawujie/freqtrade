{
 "cells": [
  {
   "cell_type": "markdown",
   "id": "5b551c1e",
   "metadata": {},
   "source": [
    "# 🚀 Freqtrade 策略测试器（通用教程）\n",
    "\n",
    "本 Notebook 用于通用地测试任意 Freqtrade 策略，支持：\n",
    "\n",
    "- ✅ 验证策略基础功能（加载、参数、时间周期等）\n",
    "- ✅ 测试自定义 Hyperopt Loss（可选）\n",
    "- ✅ 检查数据加载状态（本地 feather 数据）\n",
    "- ✅ 生成测试报告与下一步建议\n",
    "\n",
    "适用于：新策略调试、参数优化前检查、快速多策略对比。\n"
   ]
  },
  {
   "cell_type": "markdown",
   "id": "45a2fe92",
   "metadata": {},
   "source": [
    "## 🔧 使用说明\n",
    "\n",
    "1. 修改下方“用户配置参数”，可指定任意策略与配置文件。\n",
    "2. 依次运行每个单元格。\n",
    "3. 根据“测试结果汇总”中的建议进行下一步（回测/优化）。\n"
   ]
  },
  {
   "cell_type": "code",
   "execution_count": 7,
   "id": "4ba4563b",
   "metadata": {},
   "outputs": [
    {
     "name": "stdout",
     "output_type": "stream",
     "text": [
      "✅ 环境初始化完成\n",
      "📁 工作目录: /Users/apple/code/freqtrade/scripts\n",
      "🎯 策略: DoubleMAStrategy\n",
      "⚙️ 配置: ../user_data/config_double_ma.json\n"
     ]
    }
   ],
   "source": [
    "# ==============================\n",
    "# 🔧 用户配置参数（按需修改）\n",
    "# ==============================\n",
    "\n",
    "# 策略类名（与 user_data/strategies/<文件名>.py 内类名一致）\n",
    "STRATEGY_NAME = \"DoubleMAStrategy\"  # 例：\"SampleStrategy\"、\"DoubleMAStrategy\"\n",
    "\n",
    "# 配置文件路径（建议使用你实际的配置）\n",
    "CONFIG_FILE = \"../user_data/config_double_ma.json\"\n",
    "\n",
    "# 自定义 Hyperopt Loss 类名（可选，无则留空字符串）\n",
    "HYPEROPT_LOSS_NAME = \"DoubleMAHyperOptLoss\"  # 例：\"SampleHyperOptLoss\"，无则设为 \"\"\n",
    "\n",
    "# 测试模式：\"basic\" | \"loss\" | \"data\" | \"full\"\n",
    "TEST_MODE = \"full\"\n",
    "\n",
    "# ==============================\n",
    "# 🔧 环境初始化\n",
    "# ==============================\n",
    "\n",
    "import sys\n",
    "import os\n",
    "from pathlib import Path\n",
    "import warnings\n",
    "warnings.filterwarnings(\"ignore\")\n",
    "\n",
    "project_root = Path.cwd()\n",
    "if str(project_root) not in sys.path:\n",
    "    sys.path.insert(0, str(project_root))\n",
    "\n",
    "import pandas as pd\n",
    "import numpy as np\n",
    "from datetime import datetime\n",
    "\n",
    "print(\"✅ 环境初始化完成\")\n",
    "print(f\"📁 工作目录: {project_root}\")\n",
    "print(f\"🎯 策略: {STRATEGY_NAME}\")\n",
    "print(f\"⚙️ 配置: {CONFIG_FILE}\")\n"
   ]
  },
  {
   "cell_type": "markdown",
   "id": "4a6415a5",
   "metadata": {},
   "source": [
    "## 🔍 测试一：策略基础功能\n"
   ]
  },
  {
   "cell_type": "code",
   "execution_count": 8,
   "id": "211748a5",
   "metadata": {},
   "outputs": [
    {
     "name": "stdout",
     "output_type": "stream",
     "text": [
      "🔍 测试策略基础功能...\n"
     ]
    },
    {
     "data": {
      "text/html": [
       "<pre style=\"white-space:pre;overflow-x:auto;line-height:normal;font-family:Menlo,'DejaVu Sans Mono',consolas,'Courier New',monospace\">2025-09-20 12:16:37,353<span style=\"color: #767676; text-decoration-color: #767676\"> - </span><span style=\"color: #d787ff; text-decoration-color: #d787ff\">freqtrade.configuration.load_config</span><span style=\"color: #767676; text-decoration-color: #767676\"> - </span><span style=\"color: #000080; text-decoration-color: #000080\">INFO</span><span style=\"color: #767676; text-decoration-color: #767676\"> - </span>Using config: ../user_data/config_double_ma.json ...\n",
       "</pre>\n"
      ],
      "text/plain": [
       "2025-09-20 12:16:37,353\u001b[38;5;243m - \u001b[0m\u001b[38;5;177mfreqtrade.configuration.load_config\u001b[0m\u001b[38;5;243m - \u001b[0m\u001b[34mINFO\u001b[0m\u001b[38;5;243m - \u001b[0mUsing config: ../user_data/config_double_ma.json ...\n"
      ]
     },
     "metadata": {},
     "output_type": "display_data"
    },
    {
     "data": {
      "text/html": [
       "<pre style=\"white-space:pre;overflow-x:auto;line-height:normal;font-family:Menlo,'DejaVu Sans Mono',consolas,'Courier New',monospace\">2025-09-20 12:16:37,362<span style=\"color: #767676; text-decoration-color: #767676\"> - </span><span style=\"color: #d787ff; text-decoration-color: #d787ff\">freqtrade.loggers</span><span style=\"color: #767676; text-decoration-color: #767676\"> - </span><span style=\"color: #000080; text-decoration-color: #000080\">INFO</span><span style=\"color: #767676; text-decoration-color: #767676\"> - </span>Enabling colorized output.\n",
       "</pre>\n"
      ],
      "text/plain": [
       "2025-09-20 12:16:37,362\u001b[38;5;243m - \u001b[0m\u001b[38;5;177mfreqtrade.loggers\u001b[0m\u001b[38;5;243m - \u001b[0m\u001b[34mINFO\u001b[0m\u001b[38;5;243m - \u001b[0mEnabling colorized output.\n"
      ]
     },
     "metadata": {},
     "output_type": "display_data"
    },
    {
     "data": {
      "text/html": [
       "<pre style=\"white-space:pre;overflow-x:auto;line-height:normal;font-family:Menlo,'DejaVu Sans Mono',consolas,'Courier New',monospace\">2025-09-20 12:16:37,363<span style=\"color: #767676; text-decoration-color: #767676\"> - </span><span style=\"color: #d787ff; text-decoration-color: #d787ff\">freqtrade.loggers</span><span style=\"color: #767676; text-decoration-color: #767676\"> - </span><span style=\"color: #000080; text-decoration-color: #000080\">INFO</span><span style=\"color: #767676; text-decoration-color: #767676\"> - </span>Logfile configured\n",
       "</pre>\n"
      ],
      "text/plain": [
       "2025-09-20 12:16:37,363\u001b[38;5;243m - \u001b[0m\u001b[38;5;177mfreqtrade.loggers\u001b[0m\u001b[38;5;243m - \u001b[0m\u001b[34mINFO\u001b[0m\u001b[38;5;243m - \u001b[0mLogfile configured\n"
      ]
     },
     "metadata": {},
     "output_type": "display_data"
    },
    {
     "data": {
      "text/html": [
       "<pre style=\"white-space:pre;overflow-x:auto;line-height:normal;font-family:Menlo,'DejaVu Sans Mono',consolas,'Courier New',monospace\">2025-09-20 12:16:37,364<span style=\"color: #767676; text-decoration-color: #767676\"> - </span><span style=\"color: #d787ff; text-decoration-color: #d787ff\">freqtrade.loggers</span><span style=\"color: #767676; text-decoration-color: #767676\"> - </span><span style=\"color: #000080; text-decoration-color: #000080\">INFO</span><span style=\"color: #767676; text-decoration-color: #767676\"> - </span>Verbosity set to 0\n",
       "</pre>\n"
      ],
      "text/plain": [
       "2025-09-20 12:16:37,364\u001b[38;5;243m - \u001b[0m\u001b[38;5;177mfreqtrade.loggers\u001b[0m\u001b[38;5;243m - \u001b[0m\u001b[34mINFO\u001b[0m\u001b[38;5;243m - \u001b[0mVerbosity set to 0\n"
      ]
     },
     "metadata": {},
     "output_type": "display_data"
    },
    {
     "name": "stdout",
     "output_type": "stream",
     "text": [
      "❌ 策略加载失败: Directory `user_data` does not exist. Please use `freqtrade create-userdir` to create a user directory\n",
      "   💡 检查配置文件路径 / 策略类名 / 依赖环境\n"
     ]
    }
   ],
   "source": [
    "def test_strategy_basic_functionality():\n",
    "    print(\"🔍 测试策略基础功能...\")\n",
    "    try:\n",
    "        from freqtrade.resolvers import StrategyResolver\n",
    "        from freqtrade.configuration import Configuration\n",
    "\n",
    "        config = Configuration.from_files([CONFIG_FILE])\n",
    "        # 覆盖策略名称（以防配置中不同）\n",
    "        config[\"strategy\"] = STRATEGY_NAME\n",
    "\n",
    "        strat = StrategyResolver.load_strategy(config)\n",
    "\n",
    "        print(\"✅ 策略加载成功\")\n",
    "        print(f\"   📄 策略类: {strat.__class__.__name__}\")\n",
    "        print(f\"   ⏰ 时间周期: {getattr(strat, 'timeframe', 'N/A')}\")\n",
    "        print(f\"   📈 允许做空: {getattr(strat, 'can_short', 'N/A')}\")\n",
    "        print(f\"   🛡️ 止损: {getattr(strat, 'stoploss', 'N/A')}\")\n",
    "        print(f\"   🎯 ROI: {getattr(strat, 'minimal_roi', 'N/A')}\")\n",
    "\n",
    "        # 列出可优化参数\n",
    "        print(\"\\n📊 可优化参数:\")\n",
    "        count = 0\n",
    "        for name in dir(strat):\n",
    "            obj = getattr(strat, name)\n",
    "            if hasattr(obj, \"optimize\") and getattr(obj, \"optimize\"):\n",
    "                count += 1\n",
    "                rng = []\n",
    "                for r in (\"low\", \"high\", \"choices\"):\n",
    "                    if hasattr(obj, r):\n",
    "                        rng.append(f\"{r}={getattr(obj, r)}\")\n",
    "                print(f\"   🔧 {name}: value={getattr(obj, 'value', None)}  ({', '.join(rng)})\")\n",
    "        if count == 0:\n",
    "            print(\"   ⚠️ 未发现可优化参数（正常情况：若策略未启用Parameter）\")\n",
    "\n",
    "        return True\n",
    "    except Exception as e:\n",
    "        print(f\"❌ 策略加载失败: {e}\")\n",
    "        print(\"   💡 检查配置文件路径 / 策略类名 / 依赖环境\")\n",
    "        return False\n",
    "\n",
    "if TEST_MODE in (\"basic\", \"full\"):\n",
    "    _ok_basic = test_strategy_basic_functionality()\n",
    "else:\n",
    "    print(\"⏭️ 跳过基础功能测试\")\n",
    "    _ok_basic = None\n"
   ]
  },
  {
   "cell_type": "markdown",
   "id": "3d1fc2dc",
   "metadata": {},
   "source": [
    "## 📊 测试二：Hyperopt Loss（可选）\n"
   ]
  },
  {
   "cell_type": "code",
   "execution_count": null,
   "id": "dcf09a10",
   "metadata": {},
   "outputs": [],
   "source": [
    "def test_hyperopt_loss():\n",
    "    if not HYPEROPT_LOSS_NAME:\n",
    "        print(\"⏭️ 未配置自定义Loss，跳过\")\n",
    "        return None\n",
    "    print(\"📊 测试Hyperopt Loss...\")\n",
    "    try:\n",
    "        module = __import__(f\"user_data.hyperopts.{HYPEROPT_LOSS_NAME}\", fromlist=[HYPEROPT_LOSS_NAME])\n",
    "        LossCls = getattr(module, HYPEROPT_LOSS_NAME)\n",
    "        print(f\"✅ 加载成功: {LossCls.__name__}\")\n",
    "\n",
    "        mock = pd.DataFrame({\n",
    "            \"profit_ratio\": [0.02, -0.01, 0.03, 0.01, -0.005, 0.025],\n",
    "            \"trade_duration\": [120, 180, 90, 240, 60, 150],\n",
    "        })\n",
    "        val = LossCls.hyperopt_loss_function(\n",
    "            results=mock,\n",
    "            trade_count=len(mock),\n",
    "            min_date=pd.Timestamp(\"2024-01-01\"),\n",
    "            max_date=pd.Timestamp(\"2024-01-10\"),\n",
    "            config={},\n",
    "            processed={},\n",
    "        )\n",
    "        print(f\"🎯 Loss值: {val:.6f}（越小越好）\")\n",
    "        return True\n",
    "    except Exception as e:\n",
    "        print(f\"❌ Loss测试失败: {e}\")\n",
    "        return False\n",
    "\n",
    "if TEST_MODE in (\"loss\", \"full\"):\n",
    "    _ok_loss = test_hyperopt_loss()\n",
    "else:\n",
    "    print(\"⏭️ 跳过Loss测试\")\n",
    "    _ok_loss = None\n"
   ]
  },
  {
   "cell_type": "markdown",
   "id": "5923bc53",
   "metadata": {},
   "source": [
    "## 📈 测试三：数据加载检查\n"
   ]
  },
  {
   "cell_type": "code",
   "execution_count": null,
   "id": "921320f4",
   "metadata": {},
   "outputs": [],
   "source": [
    "def test_data_loading():\n",
    "    print(\"📈 检查数据加载...\")\n",
    "    data_dir = project_root / \"user_data\" / \"data\"\n",
    "    if not data_dir.exists():\n",
    "        print(\"❌ 未找到数据目录 user_data/data\")\n",
    "        print(\"   💡 运行: freqtrade download-data --timeframe 1h --timerange 20230101-20231231\")\n",
    "        return False, 0\n",
    "\n",
    "    files = list(data_dir.glob(\"**/*.feather\"))\n",
    "    if not files:\n",
    "        print(\"❌ 未找到 feather 数据文件\")\n",
    "        return False, 0\n",
    "\n",
    "    total = 0\n",
    "    for fp in files[:10]:  # 采样检查\n",
    "        try:\n",
    "            df = pd.read_feather(fp)\n",
    "            total += len(df)\n",
    "        except Exception as e:\n",
    "            print(f\"⚠️ 文件读取失败 {fp.name}: {e}\")\n",
    "\n",
    "    print(f\"✅ 数据文件: {len(files)} 个，采样合计 {total} 行\")\n",
    "    return True, len(files)\n",
    "\n",
    "if TEST_MODE in (\"data\", \"full\"):\n",
    "    _ok_data, _files = test_data_loading()\n",
    "else:\n",
    "    print(\"⏭️ 跳过数据检查\")\n",
    "    _ok_data, _files = None, 0\n"
   ]
  },
  {
   "cell_type": "markdown",
   "id": "628f15d3",
   "metadata": {},
   "source": [
    "## 🧾 测试结果汇总与下一步\n"
   ]
  },
  {
   "cell_type": "code",
   "execution_count": null,
   "id": "44d6af7a",
   "metadata": {},
   "outputs": [],
   "source": [
    "def summarize():\n",
    "    print(\"\\n===== 测试汇总 =====\")\n",
    "    passed = 0\n",
    "    total = 0\n",
    "    if TEST_MODE in (\"basic\", \"full\"):\n",
    "        total += 1\n",
    "        print(f\"基础功能: {'✅' if _ok_basic else '❌'}\")\n",
    "        passed += 1 if _ok_basic else 0\n",
    "    if TEST_MODE in (\"loss\", \"full\"):\n",
    "        total += 1\n",
    "        print(f\"Loss测试: {'✅' if _ok_loss else '❌' if _ok_loss is False else '⏭️'}\")\n",
    "        passed += 1 if _ok_loss else 0\n",
    "    if TEST_MODE in (\"data\", \"full\"):\n",
    "        total += 1\n",
    "        print(f\"数据检查: {'✅' if _ok_data else '❌' if _ok_data is False else '⏭️'}\")\n",
    "        passed += 1 if _ok_data else 0\n",
    "    if total:\n",
    "        print(f\"结果: {passed}/{total} 通过\")\n",
    "        if passed == total:\n",
    "            print(\"🎉 可以进行回测 / 超参优化啦！\")\n",
    "        else:\n",
    "            print(\"⚠️ 建议先修复失败项再继续。\")\n",
    "\n",
    "summarize()\n"
   ]
  }
 ],
 "metadata": {
  "kernelspec": {
   "display_name": ".venv",
   "language": "python",
   "name": "python3"
  },
  "language_info": {
   "codemirror_mode": {
    "name": "ipython",
    "version": 3
   },
   "file_extension": ".py",
   "mimetype": "text/x-python",
   "name": "python",
   "nbconvert_exporter": "python",
   "pygments_lexer": "ipython3",
   "version": "3.13.7"
  }
 },
 "nbformat": 4,
 "nbformat_minor": 5
}
