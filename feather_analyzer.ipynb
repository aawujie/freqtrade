{
 "cells": [
  {
   "cell_type": "markdown",
   "metadata": {},
   "source": [
    "# 📊 Feather文件分析器\n",
    "\n",
    "**用于查看和分析Freqtrade的Feather数据文件**\n",
    "\n",
    "这个notebook可以帮你：\n",
    "- 🔍 自动发现所有.feather文件\n",
    "- 📊 查看文件基本信息\n",
    "- 📋 预览数据内容\n",
    "- 💾 导出数据为其他格式"
   ]
  },
  {
   "cell_type": "markdown",
   "metadata": {},
   "source": [
    "# 导入必要的库"
   ]
  },
  {
   "cell_type": "code",
   "execution_count": 1,
   "metadata": {},
   "outputs": [
    {
     "name": "stdout",
     "output_type": "stream",
     "text": [
      "✅ 导入完成！\n",
      "📊 Pandas版本: 2.3.2\n"
     ]
    }
   ],
   "source": [
    "import pandas as pd\n",
    "import os\n",
    "import glob\n",
    "from datetime import datetime\n",
    "\n",
    "print(\"✅ 导入完成！\")\n",
    "print(f\"📊 Pandas版本: {pd.__version__}\")"
   ]
  },
  {
   "cell_type": "markdown",
   "metadata": {},
   "source": [
    "# 选择要分析的文件"
   ]
  },
  {
   "cell_type": "code",
   "execution_count": 2,
   "metadata": {},
   "outputs": [
    {
     "name": "stdout",
     "output_type": "stream",
     "text": [
      "📁 数据目录: user_data/data\n",
      "✅ 目录存在\n"
     ]
    }
   ],
   "source": [
    "DATA_DIR = \"user_data/data\"\n",
    "\n",
    "print(f\"📁 数据目录: {DATA_DIR}\")\n",
    "\n",
    "# 检查目录是否存在\n",
    "if os.path.exists(DATA_DIR):\n",
    "    print(\"✅ 目录存在\")\n",
    "else:\n",
    "    print(f\"❌ 目录不存在: {DATA_DIR}\")\n",
    "    print(\"请先运行: freqtrade download-data\")"
   ]
  },
  {
   "cell_type": "markdown",
   "metadata": {},
   "source": [
    "# 查找所有feather文件"
   ]
  },
  {
   "cell_type": "code",
   "execution_count": 3,
   "metadata": {},
   "outputs": [
    {
     "name": "stdout",
     "output_type": "stream",
     "text": [
      "🔍 找到 6 个.feather文件:\n",
      "==================================================\n",
      " 1. BTC_USDT_USDT-5m-futures.feather         (2.8 MB)\n",
      " 2. BTC_USDT_USDT-8h-funding_rate.feather    (0.0 MB)\n",
      " 3. BTC_USDT_USDT-8h-mark.feather            (0.0 MB)\n",
      " 4. ETH_USDT_USDT-5m-futures.feather         (2.8 MB)\n",
      " 5. ETH_USDT_USDT-8h-funding_rate.feather    (0.0 MB)\n",
      " 6. ETH_USDT_USDT-8h-mark.feather            (0.0 MB)\n"
     ]
    }
   ],
   "source": [
    "def find_feather_files(directory):\n",
    "    pattern = os.path.join(directory, \"**\", \"*.feather\")\n",
    "    files = glob.glob(pattern, recursive=True)\n",
    "    return sorted(files)\n",
    "\n",
    "# 查找文件\n",
    "feather_files = find_feather_files(DATA_DIR)\n",
    "\n",
    "print(f\"🔍 找到 {len(feather_files)} 个.feather文件:\")\n",
    "print(\"=\" * 50)\n",
    "\n",
    "for i, file_path in enumerate(feather_files, 1):\n",
    "    file_size = os.path.getsize(file_path) / 1024 / 1024  # MB\n",
    "    file_name = os.path.basename(file_path)\n",
    "    print(f\"{i:2d}. {file_name:<40} ({file_size:.1f} MB)\")\n",
    "\n",
    "if not feather_files:\n",
    "    print(\"❌ 未找到.feather文件\")\n",
    "    print(\"请先运行: freqtrade download-data\")"
   ]
  },
  {
   "cell_type": "markdown",
   "metadata": {},
   "source": [
    "# 选择要分析的文件"
   ]
  },
  {
   "cell_type": "code",
   "execution_count": 8,
   "metadata": {},
   "outputs": [
    {
     "name": "stdout",
     "output_type": "stream",
     "text": [
      "\n",
      "✅ 已选择文件: BTC_USDT_USDT-5m-futures.feather\n"
     ]
    }
   ],
   "source": [
    "selected_file = None\n",
    "\n",
    "if feather_files:\n",
    "    # 默认选择第一个文件\n",
    "    choice = 1\n",
    "    if 1 <= choice <= len(feather_files):\n",
    "        selected_file = feather_files[choice - 1]\n",
    "        print(f\"\\n✅ 已选择文件: {os.path.basename(selected_file)}\")\n",
    "    else:\n",
    "        print(\"\\n❌ 无效的选择\")\n",
    "else:\n",
    "    print(\"❌ 没有可用的文件\")"
   ]
  },
  {
   "cell_type": "markdown",
   "metadata": {},
   "source": [
    "# 读取和分析文件"
   ]
  },
  {
   "cell_type": "code",
   "execution_count": 9,
   "metadata": {},
   "outputs": [
    {
     "name": "stdout",
     "output_type": "stream",
     "text": [
      "📖 正在读取文件: BTC_USDT_USDT-5m-futures.feather\n",
      "\n",
      "============================================================\n",
      "📊 文件分析报告\n",
      "============================================================\n",
      "📁 文件名: BTC_USDT_USDT-5m-futures.feather\n",
      "📈 行数: 110,533\n",
      "📊 列数: 6\n",
      "💾 大小: 2.81 MB\n",
      "📅 时间范围: 2024-09-01 00:00:00+00:00 → 2025-09-19 19:00:00+00:00\n",
      "\n",
      "📋 数据列:\n",
      "  1. date\n",
      "  2. open\n",
      "  3. high\n",
      "  4. low\n",
      "  5. close\n",
      "  6. volume\n",
      "\n",
      "✅ 文件读取成功!\n"
     ]
    }
   ],
   "source": [
    "df = None\n",
    "\n",
    "if selected_file:\n",
    "    try:\n",
    "        print(f\"📖 正在读取文件: {os.path.basename(selected_file)}\")\n",
    "        df = pd.read_feather(selected_file)\n",
    "        \n",
    "        print(\"\\n\" + \"=\" * 60)\n",
    "        print(\"📊 文件分析报告\")\n",
    "        print(\"=\" * 60)\n",
    "        \n",
    "        # 基本信息\n",
    "        print(f\"📁 文件名: {os.path.basename(selected_file)}\")\n",
    "        print(f\"📈 行数: {len(df):,}\")\n",
    "        print(f\"📊 列数: {len(df.columns)}\")\n",
    "        print(f\"💾 大小: {os.path.getsize(selected_file) / 1024 / 1024:.2f} MB\")\n",
    "        \n",
    "        # 时间范围\n",
    "        if 'date' in df.columns:\n",
    "            print(f\"📅 时间范围: {df['date'].min()} → {df['date'].max()}\")\n",
    "        \n",
    "        print(f\"\\n📋 数据列:\")\n",
    "        for i, col in enumerate(df.columns, 1):\n",
    "            print(f\"  {i}. {col}\")\n",
    "            \n",
    "        print(\"\\n✅ 文件读取成功!\")\n",
    "        \n",
    "    except Exception as e:\n",
    "        print(f\"❌ 读取失败: {e}\")\n",
    "        df = None\n",
    "else:\n",
    "    print(\"❌ 未选择文件\")"
   ]
  },
  {
   "cell_type": "markdown",
   "metadata": {},
   "source": [
    "# 数据预览"
   ]
  },
  {
   "cell_type": "code",
   "execution_count": 10,
   "metadata": {},
   "outputs": [
    {
     "name": "stdout",
     "output_type": "stream",
     "text": [
      "🔍 数据预览 (前5行):\n",
      "--------------------------------------------------------------------------------\n"
     ]
    },
    {
     "data": {
      "text/html": [
       "<div>\n",
       "<style scoped>\n",
       "    .dataframe tbody tr th:only-of-type {\n",
       "        vertical-align: middle;\n",
       "    }\n",
       "\n",
       "    .dataframe tbody tr th {\n",
       "        vertical-align: top;\n",
       "    }\n",
       "\n",
       "    .dataframe thead th {\n",
       "        text-align: right;\n",
       "    }\n",
       "</style>\n",
       "<table border=\"1\" class=\"dataframe\">\n",
       "  <thead>\n",
       "    <tr style=\"text-align: right;\">\n",
       "      <th></th>\n",
       "      <th>date</th>\n",
       "      <th>open</th>\n",
       "      <th>high</th>\n",
       "      <th>low</th>\n",
       "      <th>close</th>\n",
       "      <th>volume</th>\n",
       "    </tr>\n",
       "  </thead>\n",
       "  <tbody>\n",
       "    <tr>\n",
       "      <th>0</th>\n",
       "      <td>2024-09-01 00:00:00+00:00</td>\n",
       "      <td>58941.9</td>\n",
       "      <td>58951.4</td>\n",
       "      <td>58925.2</td>\n",
       "      <td>58951.4</td>\n",
       "      <td>95.907</td>\n",
       "    </tr>\n",
       "    <tr>\n",
       "      <th>1</th>\n",
       "      <td>2024-09-01 00:05:00+00:00</td>\n",
       "      <td>58951.4</td>\n",
       "      <td>59011.6</td>\n",
       "      <td>58943.7</td>\n",
       "      <td>59004.5</td>\n",
       "      <td>202.985</td>\n",
       "    </tr>\n",
       "    <tr>\n",
       "      <th>2</th>\n",
       "      <td>2024-09-01 00:10:00+00:00</td>\n",
       "      <td>59004.6</td>\n",
       "      <td>59033.0</td>\n",
       "      <td>58990.1</td>\n",
       "      <td>59008.9</td>\n",
       "      <td>227.436</td>\n",
       "    </tr>\n",
       "    <tr>\n",
       "      <th>3</th>\n",
       "      <td>2024-09-01 00:15:00+00:00</td>\n",
       "      <td>59009.0</td>\n",
       "      <td>59052.7</td>\n",
       "      <td>58992.8</td>\n",
       "      <td>58992.8</td>\n",
       "      <td>285.417</td>\n",
       "    </tr>\n",
       "    <tr>\n",
       "      <th>4</th>\n",
       "      <td>2024-09-01 00:20:00+00:00</td>\n",
       "      <td>58992.8</td>\n",
       "      <td>58998.1</td>\n",
       "      <td>58960.0</td>\n",
       "      <td>58960.0</td>\n",
       "      <td>156.475</td>\n",
       "    </tr>\n",
       "  </tbody>\n",
       "</table>\n",
       "</div>"
      ],
      "text/plain": [
       "                       date     open     high      low    close   volume\n",
       "0 2024-09-01 00:00:00+00:00  58941.9  58951.4  58925.2  58951.4   95.907\n",
       "1 2024-09-01 00:05:00+00:00  58951.4  59011.6  58943.7  59004.5  202.985\n",
       "2 2024-09-01 00:10:00+00:00  59004.6  59033.0  58990.1  59008.9  227.436\n",
       "3 2024-09-01 00:15:00+00:00  59009.0  59052.7  58992.8  58992.8  285.417\n",
       "4 2024-09-01 00:20:00+00:00  58992.8  58998.1  58960.0  58960.0  156.475"
      ]
     },
     "metadata": {},
     "output_type": "display_data"
    },
    {
     "name": "stdout",
     "output_type": "stream",
     "text": [
      "\n",
      "🔍 数据预览 (后5行):\n",
      "--------------------------------------------------------------------------------\n"
     ]
    },
    {
     "data": {
      "text/html": [
       "<div>\n",
       "<style scoped>\n",
       "    .dataframe tbody tr th:only-of-type {\n",
       "        vertical-align: middle;\n",
       "    }\n",
       "\n",
       "    .dataframe tbody tr th {\n",
       "        vertical-align: top;\n",
       "    }\n",
       "\n",
       "    .dataframe thead th {\n",
       "        text-align: right;\n",
       "    }\n",
       "</style>\n",
       "<table border=\"1\" class=\"dataframe\">\n",
       "  <thead>\n",
       "    <tr style=\"text-align: right;\">\n",
       "      <th></th>\n",
       "      <th>date</th>\n",
       "      <th>open</th>\n",
       "      <th>high</th>\n",
       "      <th>low</th>\n",
       "      <th>close</th>\n",
       "      <th>volume</th>\n",
       "    </tr>\n",
       "  </thead>\n",
       "  <tbody>\n",
       "    <tr>\n",
       "      <th>110528</th>\n",
       "      <td>2025-09-19 18:40:00+00:00</td>\n",
       "      <td>115420.6</td>\n",
       "      <td>115575.3</td>\n",
       "      <td>115420.6</td>\n",
       "      <td>115539.2</td>\n",
       "      <td>371.786</td>\n",
       "    </tr>\n",
       "    <tr>\n",
       "      <th>110529</th>\n",
       "      <td>2025-09-19 18:45:00+00:00</td>\n",
       "      <td>115539.1</td>\n",
       "      <td>115596.0</td>\n",
       "      <td>115385.1</td>\n",
       "      <td>115386.0</td>\n",
       "      <td>366.477</td>\n",
       "    </tr>\n",
       "    <tr>\n",
       "      <th>110530</th>\n",
       "      <td>2025-09-19 18:50:00+00:00</td>\n",
       "      <td>115386.1</td>\n",
       "      <td>115417.2</td>\n",
       "      <td>115346.4</td>\n",
       "      <td>115362.4</td>\n",
       "      <td>211.838</td>\n",
       "    </tr>\n",
       "    <tr>\n",
       "      <th>110531</th>\n",
       "      <td>2025-09-19 18:55:00+00:00</td>\n",
       "      <td>115362.4</td>\n",
       "      <td>115366.4</td>\n",
       "      <td>115322.0</td>\n",
       "      <td>115365.7</td>\n",
       "      <td>216.133</td>\n",
       "    </tr>\n",
       "    <tr>\n",
       "      <th>110532</th>\n",
       "      <td>2025-09-19 19:00:00+00:00</td>\n",
       "      <td>115365.7</td>\n",
       "      <td>115433.1</td>\n",
       "      <td>115347.0</td>\n",
       "      <td>115347.0</td>\n",
       "      <td>287.803</td>\n",
       "    </tr>\n",
       "  </tbody>\n",
       "</table>\n",
       "</div>"
      ],
      "text/plain": [
       "                            date      open      high       low     close  \\\n",
       "110528 2025-09-19 18:40:00+00:00  115420.6  115575.3  115420.6  115539.2   \n",
       "110529 2025-09-19 18:45:00+00:00  115539.1  115596.0  115385.1  115386.0   \n",
       "110530 2025-09-19 18:50:00+00:00  115386.1  115417.2  115346.4  115362.4   \n",
       "110531 2025-09-19 18:55:00+00:00  115362.4  115366.4  115322.0  115365.7   \n",
       "110532 2025-09-19 19:00:00+00:00  115365.7  115433.1  115347.0  115347.0   \n",
       "\n",
       "         volume  \n",
       "110528  371.786  \n",
       "110529  366.477  \n",
       "110530  211.838  \n",
       "110531  216.133  \n",
       "110532  287.803  "
      ]
     },
     "metadata": {},
     "output_type": "display_data"
    },
    {
     "name": "stdout",
     "output_type": "stream",
     "text": [
      "\n",
      "📊 基本统计信息:\n",
      "----------------------------------------\n"
     ]
    },
    {
     "data": {
      "text/html": [
       "<div>\n",
       "<style scoped>\n",
       "    .dataframe tbody tr th:only-of-type {\n",
       "        vertical-align: middle;\n",
       "    }\n",
       "\n",
       "    .dataframe tbody tr th {\n",
       "        vertical-align: top;\n",
       "    }\n",
       "\n",
       "    .dataframe thead th {\n",
       "        text-align: right;\n",
       "    }\n",
       "</style>\n",
       "<table border=\"1\" class=\"dataframe\">\n",
       "  <thead>\n",
       "    <tr style=\"text-align: right;\">\n",
       "      <th></th>\n",
       "      <th>open</th>\n",
       "      <th>high</th>\n",
       "      <th>low</th>\n",
       "      <th>close</th>\n",
       "      <th>volume</th>\n",
       "    </tr>\n",
       "  </thead>\n",
       "  <tbody>\n",
       "    <tr>\n",
       "      <th>count</th>\n",
       "      <td>110533.000000</td>\n",
       "      <td>110533.000000</td>\n",
       "      <td>110533.000000</td>\n",
       "      <td>110533.000000</td>\n",
       "      <td>110533.000000</td>\n",
       "    </tr>\n",
       "    <tr>\n",
       "      <th>mean</th>\n",
       "      <td>94059.808611</td>\n",
       "      <td>94140.325305</td>\n",
       "      <td>93978.541853</td>\n",
       "      <td>94060.320003</td>\n",
       "      <td>689.785816</td>\n",
       "    </tr>\n",
       "    <tr>\n",
       "      <th>std</th>\n",
       "      <td>17452.169911</td>\n",
       "      <td>17456.038545</td>\n",
       "      <td>17447.707266</td>\n",
       "      <td>17451.969770</td>\n",
       "      <td>1011.299521</td>\n",
       "    </tr>\n",
       "    <tr>\n",
       "      <th>min</th>\n",
       "      <td>52708.200000</td>\n",
       "      <td>52973.400000</td>\n",
       "      <td>52510.800000</td>\n",
       "      <td>52708.200000</td>\n",
       "      <td>0.000000</td>\n",
       "    </tr>\n",
       "    <tr>\n",
       "      <th>25%</th>\n",
       "      <td>83994.600000</td>\n",
       "      <td>84072.700000</td>\n",
       "      <td>83926.000000</td>\n",
       "      <td>83995.000000</td>\n",
       "      <td>212.894000</td>\n",
       "    </tr>\n",
       "    <tr>\n",
       "      <th>50%</th>\n",
       "      <td>96933.000000</td>\n",
       "      <td>97008.500000</td>\n",
       "      <td>96849.600000</td>\n",
       "      <td>96933.400000</td>\n",
       "      <td>387.373000</td>\n",
       "    </tr>\n",
       "    <tr>\n",
       "      <th>75%</th>\n",
       "      <td>107142.100000</td>\n",
       "      <td>107189.500000</td>\n",
       "      <td>107070.400000</td>\n",
       "      <td>107142.200000</td>\n",
       "      <td>756.110000</td>\n",
       "    </tr>\n",
       "    <tr>\n",
       "      <th>max</th>\n",
       "      <td>124300.000000</td>\n",
       "      <td>124545.600000</td>\n",
       "      <td>124150.500000</td>\n",
       "      <td>124300.000000</td>\n",
       "      <td>34050.857000</td>\n",
       "    </tr>\n",
       "  </tbody>\n",
       "</table>\n",
       "</div>"
      ],
      "text/plain": [
       "                open           high            low          close  \\\n",
       "count  110533.000000  110533.000000  110533.000000  110533.000000   \n",
       "mean    94059.808611   94140.325305   93978.541853   94060.320003   \n",
       "std     17452.169911   17456.038545   17447.707266   17451.969770   \n",
       "min     52708.200000   52973.400000   52510.800000   52708.200000   \n",
       "25%     83994.600000   84072.700000   83926.000000   83995.000000   \n",
       "50%     96933.000000   97008.500000   96849.600000   96933.400000   \n",
       "75%    107142.100000  107189.500000  107070.400000  107142.200000   \n",
       "max    124300.000000  124545.600000  124150.500000  124300.000000   \n",
       "\n",
       "              volume  \n",
       "count  110533.000000  \n",
       "mean      689.785816  \n",
       "std      1011.299521  \n",
       "min         0.000000  \n",
       "25%       212.894000  \n",
       "50%       387.373000  \n",
       "75%       756.110000  \n",
       "max     34050.857000  "
      ]
     },
     "metadata": {},
     "output_type": "display_data"
    }
   ],
   "source": [
    "if df is not None:\n",
    "    print(\"🔍 数据预览 (前5行):\")\n",
    "    print(\"-\" * 80)\n",
    "    display(df.head())\n",
    "    \n",
    "    print(\"\\n🔍 数据预览 (后5行):\")\n",
    "    print(\"-\" * 80)\n",
    "    display(df.tail())\n",
    "    \n",
    "    print(\"\\n📊 基本统计信息:\")\n",
    "    print(\"-\" * 40)\n",
    "    display(df.describe())\n",
    "else:\n",
    "    print(\"❌ 没有数据可显示\")"
   ]
  },
  {
   "cell_type": "markdown",
   "metadata": {},
   "source": [
    "# 数据导出功能"
   ]
  },
  {
   "cell_type": "code",
   "execution_count": 7,
   "metadata": {},
   "outputs": [
    {
     "name": "stdout",
     "output_type": "stream",
     "text": [
      "💾 导出数据...\n",
      "✅ 已导出为CSV文件: BTC_USDT_USDT-5m-futures_20250920_033139.csv\n",
      "📊 文件大小: 7.13 MB\n",
      "\n",
      "🎯 现在可以用以下工具打开:\n",
      "  • Microsoft Excel\n",
      "  • LibreOffice Calc\n",
      "  • Google Sheets\n",
      "  • 任意文本编辑器\n"
     ]
    }
   ],
   "source": [
    "if df is not None:\n",
    "    print(\"💾 导出数据...\")\n",
    "    \n",
    "    # 生成带时间戳的文件名\n",
    "    base_name = os.path.splitext(os.path.basename(selected_file))[0]\n",
    "    timestamp = datetime.now().strftime(\"%Y%m%d_%H%M%S\")\n",
    "    \n",
    "    # 导出为CSV\n",
    "    csv_file = f\"{base_name}_{timestamp}.csv\"\n",
    "    df.to_csv(csv_file, index=False)\n",
    "    \n",
    "    # 显示结果\n",
    "    csv_size = os.path.getsize(csv_file) / 1024 / 1024\n",
    "    print(f\"✅ 已导出为CSV文件: {csv_file}\")\n",
    "    print(f\"📊 文件大小: {csv_size:.2f} MB\")\n",
    "    \n",
    "    print(\"\\n🎯 现在可以用以下工具打开:\")\n",
    "    print(\"  • Microsoft Excel\")\n",
    "    print(\"  • LibreOffice Calc\")\n",
    "    print(\"  • Google Sheets\")\n",
    "    print(\"  • 任意文本编辑器\")\n",
    "else:\n",
    "    print(\"❌ 没有数据可导出\")"
   ]
  },
  {
   "cell_type": "markdown",
   "metadata": {},
   "source": [
    "## 🎯 使用说明\n",
    "\n",
    "### 快速开始\n",
    "1. 点击每个代码单元格左侧的 ▶️ 按钮来运行\n",
    "2. 或者点击菜单 \"Run\" → \"Run All Cells\"\n",
    "\n",
    "### 主要功能\n",
    "- 🔍 **自动发现**: 扫描所有.feather文件\n",
    "- 📊 **数据分析**: 显示文件信息和统计\n",
    "- 📋 **内容预览**: 查看数据的前后部分\n",
    "- 💾 **数据导出**: 转换为CSV格式\n",
    "\n",
    "### 自定义选项\n",
    "- 修改 `DATA_DIR` 变量指定不同目录\n",
    "- 修改 `choice = 1` 来选择不同文件\n",
    "- 调整 `df.head()` 中的数字查看更多行\n",
    "\n",
    "### 故障排除\n",
    "- **文件不存在**: 请先运行 `freqtrade download-data`\n",
    "- **权限错误**: 确保有读取文件的权限\n",
    "- **包缺失**: 运行 `pip install pandas`\n",
    "\n",
    "---\n",
    "\n",
    "**💡 提示**: 这个notebook是完全交互式的，你可以自由修改和实验！\""
   ]
  }
 ],
 "metadata": {
  "kernelspec": {
   "display_name": ".venv",
   "language": "python",
   "name": "python3"
  },
  "language_info": {
   "codemirror_mode": {
    "name": "ipython",
    "version": 3
   },
   "file_extension": ".py",
   "mimetype": "text/x-python",
   "name": "python",
   "nbconvert_exporter": "python",
   "pygments_lexer": "ipython3",
   "version": "3.13.7"
  }
 },
 "nbformat": 4,
 "nbformat_minor": 4
}
